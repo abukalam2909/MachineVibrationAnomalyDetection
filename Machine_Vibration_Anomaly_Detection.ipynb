{
  "nbformat": 4,
  "nbformat_minor": 0,
  "metadata": {
    "colab": {
      "provenance": []
    },
    "kernelspec": {
      "name": "python3",
      "display_name": "Python 3"
    },
    "language_info": {
      "name": "python"
    }
  },
  "cells": [
    {
      "cell_type": "markdown",
      "source": [
        "# Machine Vibration Anomaly Detection (Autoencoder)\n",
        "\n",
        "**Goal.** Detect early signs of mechanical faults from 3‑axis accelerometer vibration signals using an autoencoder trained on **normal** data.\n",
        "\n",
        "**Dataset.** 10‑second windows @ 2 kHz (20,000 samples) per file, with labels inferred from folder names (e.g., `good/`, `bad/`).\n"
      ],
      "metadata": {
        "id": "qOXeM_TRTsmA"
      }
    },
    {
      "cell_type": "markdown",
      "source": [
        "# Setup & Paths\n"
      ],
      "metadata": {
        "id": "cR8uDESlUHXF"
      }
    },
    {
      "cell_type": "code",
      "execution_count": 41,
      "metadata": {
        "colab": {
          "base_uri": "https://localhost:8080/"
        },
        "id": "a0GgXedHnVKj",
        "outputId": "b186ed7a-af22-47d6-bbb1-862612974902"
      },
      "outputs": [
        {
          "output_type": "stream",
          "name": "stdout",
          "text": [
            "Drive already mounted at /content/drive; to attempt to forcibly remount, call drive.mount(\"/content/drive\", force_remount=True).\n"
          ]
        }
      ],
      "source": [
        "from google.colab import drive\n",
        "drive.mount('/content/drive')\n",
        "\n",
        "dataset_path = \"/content/drive/My Drive/Vibration_Data_Anomaly_Detection\"\n",
        "samplerate = 2000\n"
      ]
    },
    {
      "cell_type": "code",
      "source": [
        "import pandas as pd\n",
        "from glob import glob\n",
        "import numpy as np\n",
        "import matplotlib.pyplot as plt\n",
        "import seaborn as sns\n",
        "from tqdm import tqdm\n",
        "import os\n",
        "\n",
        "from sklearn.model_selection import train_test_split\n",
        "from sklearn.metrics import classification_report, confusion_matrix\n",
        "import tensorflow as tf\n",
        "from keras.models import Model, Sequential\n",
        "from keras.layers import Input, Dense\n",
        "from keras.optimizers import Adam\n",
        "\n",
        "%matplotlib inline\n",
        "\n",
        "np.random.seed(42)"
      ],
      "metadata": {
        "id": "1_of387inpZl"
      },
      "execution_count": 42,
      "outputs": []
    },
    {
      "cell_type": "markdown",
      "source": [
        "# Discover Data Files"
      ],
      "metadata": {
        "id": "2L727ZaPUVJ0"
      }
    },
    {
      "cell_type": "code",
      "source": [
        "import pandas as pd\n",
        "from glob import glob\n",
        "import os, numpy as np\n",
        "\n",
        "pattern = os.path.join(dataset_path, '*', '*', '*', '*.csv')\n",
        "lens = []\n",
        "\n",
        "for p in glob(pattern):\n",
        "    try:\n",
        "        df = pd.read_csv(p, nrows=100000, low_memory=False)\n",
        "        num = df.apply(pd.to_numeric, errors='coerce')  # coerce mixed to numeric\n",
        "        # keep rows where at least one numeric column is present\n",
        "        num = num.dropna(how='all', axis=1)  # drop all-NaN cols\n",
        "        lens.append(len(num))\n",
        "    except Exception:\n",
        "        pass\n",
        "\n",
        "print(\"files counted:\", len(lens))\n",
        "if lens:\n",
        "    print(\"min:\", np.min(lens), \"median:\", int(np.median(lens)), \"max:\", np.max(lens))\n"
      ],
      "metadata": {
        "colab": {
          "base_uri": "https://localhost:8080/"
        },
        "id": "70cnWyEy9M1p",
        "outputId": "62099a88-f194-4a1d-b667-03a704021547"
      },
      "execution_count": 43,
      "outputs": [
        {
          "output_type": "stream",
          "name": "stdout",
          "text": [
            "files counted: 1372\n",
            "min: 26793 median: 75776 max: 100000\n"
          ]
        }
      ]
    },
    {
      "cell_type": "code",
      "source": [
        "import warnings\n",
        "warnings.simplefilter(action='ignore', category=pd.errors.DtypeWarning)\n",
        "\n",
        "data = []\n",
        "labels = []\n",
        "\n",
        "pattern = os.path.join(dataset_path, '*', '*', '*', '*.csv')\n",
        "\n",
        "S = 10 * samplerate\n",
        "\n",
        "for csv_file in tqdm(glob(pattern)):\n",
        "    label = csv_file.split(os.sep)[-2].lower()\n",
        "\n",
        "    # read, coerce to numeric, drop empty columns\n",
        "    df  = pd.read_csv(csv_file, header=None, engine=\"c\", low_memory=False, on_bad_lines=\"skip\")\n",
        "    num = df.apply(pd.to_numeric, errors='coerce').dropna(how='all', axis=1)\n",
        "\n",
        "    # need at least 3 numeric columns (3 axes)\n",
        "    if num.shape[1] < 3:\n",
        "        continue\n",
        "\n",
        "    # take the first 3 numeric columns as X,Y,Z\n",
        "    arr = num.iloc[:, :3].dropna().to_numpy(dtype=np.float32)\n",
        "\n",
        "    # need full 10 seconds\n",
        "    if len(arr) < S:\n",
        "        continue\n",
        "\n",
        "    # keep exactly first 10s\n",
        "    arr_10s = arr[:S, :]\n",
        "    data.append(arr_10s)\n",
        "    labels.append(0 if label == 'bad' else 1)\n",
        "\n",
        "data = np.array(data, dtype=np.float32)\n",
        "labels = np.array(labels, dtype=np.int64)\n",
        "\n",
        "print(\"Data shape:\", data.shape)\n",
        "print(\"Labels shape:\", labels.shape)\n",
        "print(\"Class balance:\", {int(c): int((labels==c).sum()) for c in np.unique(labels)})\n"
      ],
      "metadata": {
        "colab": {
          "base_uri": "https://localhost:8080/"
        },
        "id": "s49Ri-lvEhVZ",
        "outputId": "30637915-ccab-4c3a-8ae4-35c6022ef423"
      },
      "execution_count": 44,
      "outputs": [
        {
          "output_type": "stream",
          "name": "stderr",
          "text": [
            "100%|██████████| 1372/1372 [04:34<00:00,  4.99it/s]\n"
          ]
        },
        {
          "output_type": "stream",
          "name": "stdout",
          "text": [
            "Data shape: (1372, 20000, 3)\n",
            "Labels shape: (1372,)\n",
            "Class balance: {0: 59, 1: 1313}\n"
          ]
        }
      ]
    },
    {
      "cell_type": "markdown",
      "source": [
        "# Downsample (20000 to 2000 per axis)\n",
        "\n",
        "To reduce dimensionality and emphasize broader frequency content, I downsample time by a factor of 10.\n",
        "Reshape to `(samples, 2000, 10, axes)` and average along the 10-sample blocks, yielding `(samples, 2000, 3)`.\n"
      ],
      "metadata": {
        "id": "IliZ8X5RUb_z"
      }
    },
    {
      "cell_type": "code",
      "source": [
        "downsample_factor = 10\n",
        "\n",
        "assert data.shape[1] % downsample_factor == 0, \"time length not divisible by downsample_factor\"\n",
        "\n",
        "new_shape = (\n",
        "    data.shape[0],\n",
        "    data.shape[1] // downsample_factor,\n",
        "    downsample_factor,\n",
        "    data.shape[2]\n",
        ")\n",
        "\n",
        "# average every 10 consecutive points along time axis\n",
        "data_sampled = np.mean(data.reshape(new_shape), axis=2).astype(np.float32)\n",
        "\n",
        "print(\"Original shape:\", data.shape)\n",
        "print(\"Downsampled shape:\", data_sampled.shape)\n"
      ],
      "metadata": {
        "colab": {
          "base_uri": "https://localhost:8080/"
        },
        "id": "hJlIUD4NEiKt",
        "outputId": "158648fb-b583-47a5-ad3a-bb555050a338"
      },
      "execution_count": 45,
      "outputs": [
        {
          "output_type": "stream",
          "name": "stdout",
          "text": [
            "Original shape: (1372, 20000, 3)\n",
            "Downsampled shape: (1372, 2000, 3)\n"
          ]
        }
      ]
    },
    {
      "cell_type": "markdown",
      "source": [
        "# Normalize per Sample (Min–Max) and Flatten\n",
        "\n",
        "Each sample is scaled to `[0, 1]` independently to stabilize training and remove unit dependence.\n",
        "After normalization, I flatten `(time × axes)` into a single feature vector for the dense autoencoder.\n"
      ],
      "metadata": {
        "id": "A6TxXPAhWC-7"
      }
    },
    {
      "cell_type": "code",
      "source": [
        "def normalize_data(data):\n",
        "    \"\"\"Scale each sample between 0 and 1 (min-max per sample).\"\"\"\n",
        "    min_values = np.min(data, axis=1, keepdims=True)  # shape: (samples, 1, 3)\n",
        "    max_values = np.max(data, axis=1, keepdims=True)  # shape: (samples, 1, 3)\n",
        "    scaled_data = (data - min_values) / (max_values - min_values + 1e-11)\n",
        "    return scaled_data\n",
        "\n",
        "# Apply normalization\n",
        "data_normalized = normalize_data(data_sampled)\n",
        "\n",
        "# Flatten from (samples, time, axes) to (samples, time*axes)\n",
        "data_normalized = data_normalized.reshape(data_normalized.shape[0], -1).astype(np.float32)\n",
        "\n",
        "print(\"After normalization:\", data_normalized.shape)"
      ],
      "metadata": {
        "colab": {
          "base_uri": "https://localhost:8080/"
        },
        "id": "3l2GV23zEiNV",
        "outputId": "cb867362-8901-402b-8efe-860907d5d52a"
      },
      "execution_count": 46,
      "outputs": [
        {
          "output_type": "stream",
          "name": "stdout",
          "text": [
            "After normalization: (1372, 6000)\n"
          ]
        }
      ]
    },
    {
      "cell_type": "markdown",
      "source": [
        "# Train/Validation Split (Stratified 80/20)\n",
        "\n",
        "For anomaly detection, the autoencoder is trained **only on normal (good)** samples and validated on normal samples.\n"
      ],
      "metadata": {
        "id": "5TbQpGKiWS1_"
      }
    },
    {
      "cell_type": "code",
      "source": [
        "from sklearn.model_selection import train_test_split\n",
        "\n",
        "# 80/20 split\n",
        "X_train, X_valid, y_train, y_valid = train_test_split(\n",
        "    data_normalized,\n",
        "    labels,\n",
        "    test_size=0.2,\n",
        "    shuffle=True,\n",
        "    random_state=42,\n",
        "    stratify=labels\n",
        ")\n",
        "\n",
        "print(f'X_train shape: {X_train.shape}')\n",
        "print(f'y_train shape: {y_train.shape}')\n",
        "print(f'X_valid shape: {X_valid.shape}')\n",
        "print(f'y_valid shape: {y_valid.shape}')\n",
        "\n",
        "# For autoencoder training: only GOOD samples (label==1)\n",
        "X_train_good = X_train[y_train == 1]\n",
        "X_valid_good = X_valid[y_valid == 1]\n",
        "X_valid_bad  = X_valid[y_valid == 0]   # for evaluation\n",
        "\n",
        "print(\"Train GOOD:\", X_train_good.shape,\n",
        "      \"| Valid GOOD:\", X_valid_good.shape,\n",
        "      \"| Valid BAD:\", X_valid_bad.shape)\n"
      ],
      "metadata": {
        "colab": {
          "base_uri": "https://localhost:8080/"
        },
        "id": "-Tt27ZiQEiPt",
        "outputId": "c6afe1ea-ff27-4d00-f546-f45527def687"
      },
      "execution_count": 47,
      "outputs": [
        {
          "output_type": "stream",
          "name": "stdout",
          "text": [
            "X_train shape: (1097, 6000)\n",
            "y_train shape: (1097,)\n",
            "X_valid shape: (275, 6000)\n",
            "y_valid shape: (275,)\n",
            "Train GOOD: (1050, 6000) | Valid GOOD: (263, 6000) | Valid BAD: (12, 6000)\n"
          ]
        }
      ]
    },
    {
      "cell_type": "markdown",
      "source": [
        "# Autoencoder Architecture (Dense Encoder–Decoder)\n",
        "\n",
        "The encoder compresses the input to a low-dimensional representation; the decoder reconstructs the original input.\n",
        "I used ReLU activations internally and a `sigmoid` output to match `[0, 1]` normalization. Loss: Mean Absolute Error (MAE).\n"
      ],
      "metadata": {
        "id": "gaRZ7N5-WnM3"
      }
    },
    {
      "cell_type": "code",
      "source": [
        "class AutoEncoder(Model):\n",
        "    def __init__(self, input_dim):\n",
        "        super(AutoEncoder, self).__init__()\n",
        "        self.input_layer = Input(shape=(input_dim,))\n",
        "\n",
        "        # Encoder\n",
        "        self.encoder = Sequential([\n",
        "            Dense(128, activation='relu', name='encoder1'),\n",
        "            Dense(64,  activation='relu', name='encoder2'),\n",
        "            Dense(32,  activation='relu', name='encoder3'),\n",
        "        ], name='encoder')\n",
        "\n",
        "        # Decoder\n",
        "        self.decoder = Sequential([\n",
        "            Dense(32,             activation='relu',    name='decoder1'),\n",
        "            Dense(64,             activation='relu',    name='decoder2'),\n",
        "            Dense(128,            activation='relu',    name='decoder3'),\n",
        "            Dense(input_dim,      activation='sigmoid', name='output'),\n",
        "        ], name='decoder')\n",
        "\n",
        "    def call(self, inputs):\n",
        "        z = self.encoder(inputs)\n",
        "        return self.decoder(z)\n",
        "\n",
        "input_dim = X_train.shape[1]\n",
        "autoencoder = AutoEncoder(input_dim=input_dim)\n",
        "\n",
        "# Compile\n",
        "autoencoder.compile(optimizer=Adam(learning_rate=1e-4), loss='mae')\n",
        "\n",
        "# Build (initialize weights) by calling once with a dummy batch\n",
        "_ = autoencoder(tf.random.uniform(shape=X_train.shape, dtype=tf.float32))\n",
        "\n",
        "# Summary\n",
        "autoencoder.summary()\n"
      ],
      "metadata": {
        "colab": {
          "base_uri": "https://localhost:8080/",
          "height": 194
        },
        "id": "RO39gev4EiYR",
        "outputId": "a0722d52-335f-4027-cc44-05bf426f1e9c"
      },
      "execution_count": 48,
      "outputs": [
        {
          "output_type": "display_data",
          "data": {
            "text/plain": [
              "\u001b[1mModel: \"auto_encoder_1\"\u001b[0m\n"
            ],
            "text/html": [
              "<pre style=\"white-space:pre;overflow-x:auto;line-height:normal;font-family:Menlo,'DejaVu Sans Mono',consolas,'Courier New',monospace\"><span style=\"font-weight: bold\">Model: \"auto_encoder_1\"</span>\n",
              "</pre>\n"
            ]
          },
          "metadata": {}
        },
        {
          "output_type": "display_data",
          "data": {
            "text/plain": [
              "┏━━━━━━━━━━━━━━━━━━━━━━━━━━━━━━━━━┳━━━━━━━━━━━━━━━━━━━━━━━━┳━━━━━━━━━━━━━━━┓\n",
              "┃\u001b[1m \u001b[0m\u001b[1mLayer (type)                   \u001b[0m\u001b[1m \u001b[0m┃\u001b[1m \u001b[0m\u001b[1mOutput Shape          \u001b[0m\u001b[1m \u001b[0m┃\u001b[1m \u001b[0m\u001b[1m      Param #\u001b[0m\u001b[1m \u001b[0m┃\n",
              "┡━━━━━━━━━━━━━━━━━━━━━━━━━━━━━━━━━╇━━━━━━━━━━━━━━━━━━━━━━━━╇━━━━━━━━━━━━━━━┩\n",
              "│ encoder (\u001b[38;5;33mSequential\u001b[0m)            │ (\u001b[38;5;34m1097\u001b[0m, \u001b[38;5;34m32\u001b[0m)             │       \u001b[38;5;34m778,464\u001b[0m │\n",
              "├─────────────────────────────────┼────────────────────────┼───────────────┤\n",
              "│ decoder (\u001b[38;5;33mSequential\u001b[0m)            │ (\u001b[38;5;34m1097\u001b[0m, \u001b[38;5;34m6000\u001b[0m)           │       \u001b[38;5;34m785,488\u001b[0m │\n",
              "└─────────────────────────────────┴────────────────────────┴───────────────┘\n"
            ],
            "text/html": [
              "<pre style=\"white-space:pre;overflow-x:auto;line-height:normal;font-family:Menlo,'DejaVu Sans Mono',consolas,'Courier New',monospace\">┏━━━━━━━━━━━━━━━━━━━━━━━━━━━━━━━━━┳━━━━━━━━━━━━━━━━━━━━━━━━┳━━━━━━━━━━━━━━━┓\n",
              "┃<span style=\"font-weight: bold\"> Layer (type)                    </span>┃<span style=\"font-weight: bold\"> Output Shape           </span>┃<span style=\"font-weight: bold\">       Param # </span>┃\n",
              "┡━━━━━━━━━━━━━━━━━━━━━━━━━━━━━━━━━╇━━━━━━━━━━━━━━━━━━━━━━━━╇━━━━━━━━━━━━━━━┩\n",
              "│ encoder (<span style=\"color: #0087ff; text-decoration-color: #0087ff\">Sequential</span>)            │ (<span style=\"color: #00af00; text-decoration-color: #00af00\">1097</span>, <span style=\"color: #00af00; text-decoration-color: #00af00\">32</span>)             │       <span style=\"color: #00af00; text-decoration-color: #00af00\">778,464</span> │\n",
              "├─────────────────────────────────┼────────────────────────┼───────────────┤\n",
              "│ decoder (<span style=\"color: #0087ff; text-decoration-color: #0087ff\">Sequential</span>)            │ (<span style=\"color: #00af00; text-decoration-color: #00af00\">1097</span>, <span style=\"color: #00af00; text-decoration-color: #00af00\">6000</span>)           │       <span style=\"color: #00af00; text-decoration-color: #00af00\">785,488</span> │\n",
              "└─────────────────────────────────┴────────────────────────┴───────────────┘\n",
              "</pre>\n"
            ]
          },
          "metadata": {}
        },
        {
          "output_type": "display_data",
          "data": {
            "text/plain": [
              "\u001b[1m Total params: \u001b[0m\u001b[38;5;34m1,563,952\u001b[0m (5.97 MB)\n"
            ],
            "text/html": [
              "<pre style=\"white-space:pre;overflow-x:auto;line-height:normal;font-family:Menlo,'DejaVu Sans Mono',consolas,'Courier New',monospace\"><span style=\"font-weight: bold\"> Total params: </span><span style=\"color: #00af00; text-decoration-color: #00af00\">1,563,952</span> (5.97 MB)\n",
              "</pre>\n"
            ]
          },
          "metadata": {}
        },
        {
          "output_type": "display_data",
          "data": {
            "text/plain": [
              "\u001b[1m Trainable params: \u001b[0m\u001b[38;5;34m1,563,952\u001b[0m (5.97 MB)\n"
            ],
            "text/html": [
              "<pre style=\"white-space:pre;overflow-x:auto;line-height:normal;font-family:Menlo,'DejaVu Sans Mono',consolas,'Courier New',monospace\"><span style=\"font-weight: bold\"> Trainable params: </span><span style=\"color: #00af00; text-decoration-color: #00af00\">1,563,952</span> (5.97 MB)\n",
              "</pre>\n"
            ]
          },
          "metadata": {}
        },
        {
          "output_type": "display_data",
          "data": {
            "text/plain": [
              "\u001b[1m Non-trainable params: \u001b[0m\u001b[38;5;34m0\u001b[0m (0.00 B)\n"
            ],
            "text/html": [
              "<pre style=\"white-space:pre;overflow-x:auto;line-height:normal;font-family:Menlo,'DejaVu Sans Mono',consolas,'Courier New',monospace\"><span style=\"font-weight: bold\"> Non-trainable params: </span><span style=\"color: #00af00; text-decoration-color: #00af00\">0</span> (0.00 B)\n",
              "</pre>\n"
            ]
          },
          "metadata": {}
        }
      ]
    },
    {
      "cell_type": "markdown",
      "source": [
        "# Train on Normal Data + Callbacks\n",
        "\n",
        "I trained the autoencoder to reconstruct normal patterns. Early stopping prevents overfitting.\n"
      ],
      "metadata": {
        "id": "Cq1h4OcLW0xo"
      }
    },
    {
      "cell_type": "code",
      "source": [
        "EPOCHS = 100\n",
        "BATCH_SIZE = 64\n",
        "\n",
        "import os, tensorflow as tf\n",
        "from tensorflow.keras.callbacks import EarlyStopping, ReduceLROnPlateau, ModelCheckpoint\n",
        "\n",
        "# Save to Google Drive (persistent)\n",
        "model_dir = \"/content/drive/My Drive/ae_models\"\n",
        "os.makedirs(model_dir, exist_ok=True)\n",
        "ckpt_path = os.path.join(model_dir, \"autoencoder_best.keras\")\n",
        "\n",
        "callbacks = [\n",
        "    EarlyStopping(monitor=\"val_loss\", patience=8, restore_best_weights=True),\n",
        "    ReduceLROnPlateau(monitor=\"val_loss\", factor=0.5, patience=4, min_lr=1e-6, verbose=1),\n",
        "    ModelCheckpoint(ckpt_path, monitor=\"val_loss\", mode=\"min\", save_best_only=True, verbose=1),\n",
        "]\n",
        "\n",
        "history = autoencoder.fit(\n",
        "    X_train_good, X_train_good,                 # train on GOOD only\n",
        "    validation_data=(X_valid_good, X_valid_good),  # validate on GOOD only\n",
        "    epochs=EPOCHS,\n",
        "    batch_size=BATCH_SIZE,\n",
        "    shuffle=True,\n",
        "    callbacks=callbacks,\n",
        "    verbose=1\n",
        ")\n",
        "\n",
        "print(\"Best model saved to:\", ckpt_path)\n"
      ],
      "metadata": {
        "colab": {
          "base_uri": "https://localhost:8080/"
        },
        "id": "jHsfMg9pAKhl",
        "outputId": "eacdfcfc-a310-4e9a-9744-8be9c3d8e68b"
      },
      "execution_count": 49,
      "outputs": [
        {
          "output_type": "stream",
          "name": "stdout",
          "text": [
            "Epoch 1/100\n",
            "\u001b[1m15/17\u001b[0m \u001b[32m━━━━━━━━━━━━━━━━━\u001b[0m\u001b[37m━━━\u001b[0m \u001b[1m0s\u001b[0m 31ms/step - loss: 0.0638\n",
            "Epoch 1: val_loss improved from inf to 0.06252, saving model to /content/drive/My Drive/ae_models/autoencoder_best.keras\n",
            "\u001b[1m17/17\u001b[0m \u001b[32m━━━━━━━━━━━━━━━━━━━━\u001b[0m\u001b[37m\u001b[0m \u001b[1m4s\u001b[0m 64ms/step - loss: 0.0639 - val_loss: 0.0625 - learning_rate: 1.0000e-04\n",
            "Epoch 2/100\n",
            "\u001b[1m17/17\u001b[0m \u001b[32m━━━━━━━━━━━━━━━━━━━━\u001b[0m\u001b[37m\u001b[0m \u001b[1m0s\u001b[0m 49ms/step - loss: 0.0640\n",
            "Epoch 2: val_loss improved from 0.06252 to 0.06245, saving model to /content/drive/My Drive/ae_models/autoencoder_best.keras\n",
            "\u001b[1m17/17\u001b[0m \u001b[32m━━━━━━━━━━━━━━━━━━━━\u001b[0m\u001b[37m\u001b[0m \u001b[1m1s\u001b[0m 80ms/step - loss: 0.0640 - val_loss: 0.0624 - learning_rate: 1.0000e-04\n",
            "Epoch 3/100\n",
            "\u001b[1m17/17\u001b[0m \u001b[32m━━━━━━━━━━━━━━━━━━━━\u001b[0m\u001b[37m\u001b[0m \u001b[1m0s\u001b[0m 45ms/step - loss: 0.0641\n",
            "Epoch 3: val_loss improved from 0.06245 to 0.06233, saving model to /content/drive/My Drive/ae_models/autoencoder_best.keras\n",
            "\u001b[1m17/17\u001b[0m \u001b[32m━━━━━━━━━━━━━━━━━━━━\u001b[0m\u001b[37m\u001b[0m \u001b[1m2s\u001b[0m 69ms/step - loss: 0.0641 - val_loss: 0.0623 - learning_rate: 1.0000e-04\n",
            "Epoch 4/100\n",
            "\u001b[1m15/17\u001b[0m \u001b[32m━━━━━━━━━━━━━━━━━\u001b[0m\u001b[37m━━━\u001b[0m \u001b[1m0s\u001b[0m 28ms/step - loss: 0.0637\n",
            "Epoch 4: val_loss improved from 0.06233 to 0.06215, saving model to /content/drive/My Drive/ae_models/autoencoder_best.keras\n",
            "\u001b[1m17/17\u001b[0m \u001b[32m━━━━━━━━━━━━━━━━━━━━\u001b[0m\u001b[37m\u001b[0m \u001b[1m1s\u001b[0m 46ms/step - loss: 0.0637 - val_loss: 0.0621 - learning_rate: 1.0000e-04\n",
            "Epoch 5/100\n",
            "\u001b[1m15/17\u001b[0m \u001b[32m━━━━━━━━━━━━━━━━━\u001b[0m\u001b[37m━━━\u001b[0m \u001b[1m0s\u001b[0m 28ms/step - loss: 0.0641\n",
            "Epoch 5: val_loss improved from 0.06215 to 0.06184, saving model to /content/drive/My Drive/ae_models/autoencoder_best.keras\n",
            "\u001b[1m17/17\u001b[0m \u001b[32m━━━━━━━━━━━━━━━━━━━━\u001b[0m\u001b[37m\u001b[0m \u001b[1m1s\u001b[0m 46ms/step - loss: 0.0640 - val_loss: 0.0618 - learning_rate: 1.0000e-04\n",
            "Epoch 6/100\n",
            "\u001b[1m17/17\u001b[0m \u001b[32m━━━━━━━━━━━━━━━━━━━━\u001b[0m\u001b[37m\u001b[0m \u001b[1m0s\u001b[0m 29ms/step - loss: 0.0627\n",
            "Epoch 6: val_loss improved from 0.06184 to 0.06142, saving model to /content/drive/My Drive/ae_models/autoencoder_best.keras\n",
            "\u001b[1m17/17\u001b[0m \u001b[32m━━━━━━━━━━━━━━━━━━━━\u001b[0m\u001b[37m\u001b[0m \u001b[1m1s\u001b[0m 45ms/step - loss: 0.0627 - val_loss: 0.0614 - learning_rate: 1.0000e-04\n",
            "Epoch 7/100\n",
            "\u001b[1m15/17\u001b[0m \u001b[32m━━━━━━━━━━━━━━━━━\u001b[0m\u001b[37m━━━\u001b[0m \u001b[1m0s\u001b[0m 27ms/step - loss: 0.0628\n",
            "Epoch 7: val_loss improved from 0.06142 to 0.06089, saving model to /content/drive/My Drive/ae_models/autoencoder_best.keras\n",
            "\u001b[1m17/17\u001b[0m \u001b[32m━━━━━━━━━━━━━━━━━━━━\u001b[0m\u001b[37m\u001b[0m \u001b[1m1s\u001b[0m 46ms/step - loss: 0.0628 - val_loss: 0.0609 - learning_rate: 1.0000e-04\n",
            "Epoch 8/100\n",
            "\u001b[1m15/17\u001b[0m \u001b[32m━━━━━━━━━━━━━━━━━\u001b[0m\u001b[37m━━━\u001b[0m \u001b[1m0s\u001b[0m 29ms/step - loss: 0.0622\n",
            "Epoch 8: val_loss improved from 0.06089 to 0.05952, saving model to /content/drive/My Drive/ae_models/autoencoder_best.keras\n",
            "\u001b[1m17/17\u001b[0m \u001b[32m━━━━━━━━━━━━━━━━━━━━\u001b[0m\u001b[37m\u001b[0m \u001b[1m1s\u001b[0m 46ms/step - loss: 0.0621 - val_loss: 0.0595 - learning_rate: 1.0000e-04\n",
            "Epoch 9/100\n",
            "\u001b[1m15/17\u001b[0m \u001b[32m━━━━━━━━━━━━━━━━━\u001b[0m\u001b[37m━━━\u001b[0m \u001b[1m0s\u001b[0m 29ms/step - loss: 0.0607\n",
            "Epoch 9: val_loss improved from 0.05952 to 0.05883, saving model to /content/drive/My Drive/ae_models/autoencoder_best.keras\n",
            "\u001b[1m17/17\u001b[0m \u001b[32m━━━━━━━━━━━━━━━━━━━━\u001b[0m\u001b[37m\u001b[0m \u001b[1m1s\u001b[0m 46ms/step - loss: 0.0606 - val_loss: 0.0588 - learning_rate: 1.0000e-04\n",
            "Epoch 10/100\n",
            "\u001b[1m15/17\u001b[0m \u001b[32m━━━━━━━━━━━━━━━━━\u001b[0m\u001b[37m━━━\u001b[0m \u001b[1m0s\u001b[0m 29ms/step - loss: 0.0594\n",
            "Epoch 10: val_loss improved from 0.05883 to 0.05712, saving model to /content/drive/My Drive/ae_models/autoencoder_best.keras\n",
            "\u001b[1m17/17\u001b[0m \u001b[32m━━━━━━━━━━━━━━━━━━━━\u001b[0m\u001b[37m\u001b[0m \u001b[1m1s\u001b[0m 45ms/step - loss: 0.0594 - val_loss: 0.0571 - learning_rate: 1.0000e-04\n",
            "Epoch 11/100\n",
            "\u001b[1m17/17\u001b[0m \u001b[32m━━━━━━━━━━━━━━━━━━━━\u001b[0m\u001b[37m\u001b[0m \u001b[1m0s\u001b[0m 30ms/step - loss: 0.0585\n",
            "Epoch 11: val_loss improved from 0.05712 to 0.05635, saving model to /content/drive/My Drive/ae_models/autoencoder_best.keras\n",
            "\u001b[1m17/17\u001b[0m \u001b[32m━━━━━━━━━━━━━━━━━━━━\u001b[0m\u001b[37m\u001b[0m \u001b[1m1s\u001b[0m 58ms/step - loss: 0.0585 - val_loss: 0.0564 - learning_rate: 1.0000e-04\n",
            "Epoch 12/100\n",
            "\u001b[1m17/17\u001b[0m \u001b[32m━━━━━━━━━━━━━━━━━━━━\u001b[0m\u001b[37m\u001b[0m \u001b[1m0s\u001b[0m 30ms/step - loss: 0.0576\n",
            "Epoch 12: val_loss improved from 0.05635 to 0.05627, saving model to /content/drive/My Drive/ae_models/autoencoder_best.keras\n",
            "\u001b[1m17/17\u001b[0m \u001b[32m━━━━━━━━━━━━━━━━━━━━\u001b[0m\u001b[37m\u001b[0m \u001b[1m1s\u001b[0m 47ms/step - loss: 0.0576 - val_loss: 0.0563 - learning_rate: 1.0000e-04\n",
            "Epoch 13/100\n",
            "\u001b[1m15/17\u001b[0m \u001b[32m━━━━━━━━━━━━━━━━━\u001b[0m\u001b[37m━━━\u001b[0m \u001b[1m0s\u001b[0m 30ms/step - loss: 0.0577\n",
            "Epoch 13: val_loss improved from 0.05627 to 0.05595, saving model to /content/drive/My Drive/ae_models/autoencoder_best.keras\n",
            "\u001b[1m17/17\u001b[0m \u001b[32m━━━━━━━━━━━━━━━━━━━━\u001b[0m\u001b[37m\u001b[0m \u001b[1m1s\u001b[0m 46ms/step - loss: 0.0576 - val_loss: 0.0559 - learning_rate: 1.0000e-04\n",
            "Epoch 14/100\n",
            "\u001b[1m17/17\u001b[0m \u001b[32m━━━━━━━━━━━━━━━━━━━━\u001b[0m\u001b[37m\u001b[0m \u001b[1m0s\u001b[0m 29ms/step - loss: 0.0568\n",
            "Epoch 14: val_loss improved from 0.05595 to 0.05579, saving model to /content/drive/My Drive/ae_models/autoencoder_best.keras\n",
            "\u001b[1m17/17\u001b[0m \u001b[32m━━━━━━━━━━━━━━━━━━━━\u001b[0m\u001b[37m\u001b[0m \u001b[1m1s\u001b[0m 48ms/step - loss: 0.0569 - val_loss: 0.0558 - learning_rate: 1.0000e-04\n",
            "Epoch 15/100\n",
            "\u001b[1m16/17\u001b[0m \u001b[32m━━━━━━━━━━━━━━━━━━\u001b[0m\u001b[37m━━\u001b[0m \u001b[1m0s\u001b[0m 41ms/step - loss: 0.0566\n",
            "Epoch 15: val_loss did not improve from 0.05579\n",
            "\u001b[1m17/17\u001b[0m \u001b[32m━━━━━━━━━━━━━━━━━━━━\u001b[0m\u001b[37m\u001b[0m \u001b[1m1s\u001b[0m 53ms/step - loss: 0.0567 - val_loss: 0.0559 - learning_rate: 1.0000e-04\n",
            "Epoch 16/100\n",
            "\u001b[1m16/17\u001b[0m \u001b[32m━━━━━━━━━━━━━━━━━━\u001b[0m\u001b[37m━━\u001b[0m \u001b[1m0s\u001b[0m 46ms/step - loss: 0.0570\n",
            "Epoch 16: val_loss improved from 0.05579 to 0.05548, saving model to /content/drive/My Drive/ae_models/autoencoder_best.keras\n",
            "\u001b[1m17/17\u001b[0m \u001b[32m━━━━━━━━━━━━━━━━━━━━\u001b[0m\u001b[37m\u001b[0m \u001b[1m2s\u001b[0m 71ms/step - loss: 0.0570 - val_loss: 0.0555 - learning_rate: 1.0000e-04\n",
            "Epoch 17/100\n",
            "\u001b[1m16/17\u001b[0m \u001b[32m━━━━━━━━━━━━━━━━━━\u001b[0m\u001b[37m━━\u001b[0m \u001b[1m0s\u001b[0m 48ms/step - loss: 0.0563\n",
            "Epoch 17: val_loss did not improve from 0.05548\n",
            "\u001b[1m17/17\u001b[0m \u001b[32m━━━━━━━━━━━━━━━━━━━━\u001b[0m\u001b[37m\u001b[0m \u001b[1m1s\u001b[0m 60ms/step - loss: 0.0563 - val_loss: 0.0558 - learning_rate: 1.0000e-04\n",
            "Epoch 18/100\n",
            "\u001b[1m16/17\u001b[0m \u001b[32m━━━━━━━━━━━━━━━━━━\u001b[0m\u001b[37m━━\u001b[0m \u001b[1m0s\u001b[0m 38ms/step - loss: 0.0563\n",
            "Epoch 18: val_loss improved from 0.05548 to 0.05519, saving model to /content/drive/My Drive/ae_models/autoencoder_best.keras\n",
            "\u001b[1m17/17\u001b[0m \u001b[32m━━━━━━━━━━━━━━━━━━━━\u001b[0m\u001b[37m\u001b[0m \u001b[1m1s\u001b[0m 54ms/step - loss: 0.0563 - val_loss: 0.0552 - learning_rate: 1.0000e-04\n",
            "Epoch 19/100\n",
            "\u001b[1m17/17\u001b[0m \u001b[32m━━━━━━━━━━━━━━━━━━━━\u001b[0m\u001b[37m\u001b[0m \u001b[1m0s\u001b[0m 28ms/step - loss: 0.0556\n",
            "Epoch 19: val_loss improved from 0.05519 to 0.05503, saving model to /content/drive/My Drive/ae_models/autoencoder_best.keras\n",
            "\u001b[1m17/17\u001b[0m \u001b[32m━━━━━━━━━━━━━━━━━━━━\u001b[0m\u001b[37m\u001b[0m \u001b[1m1s\u001b[0m 45ms/step - loss: 0.0556 - val_loss: 0.0550 - learning_rate: 1.0000e-04\n",
            "Epoch 20/100\n",
            "\u001b[1m17/17\u001b[0m \u001b[32m━━━━━━━━━━━━━━━━━━━━\u001b[0m\u001b[37m\u001b[0m \u001b[1m0s\u001b[0m 30ms/step - loss: 0.0564\n",
            "Epoch 20: val_loss improved from 0.05503 to 0.05493, saving model to /content/drive/My Drive/ae_models/autoencoder_best.keras\n",
            "\u001b[1m17/17\u001b[0m \u001b[32m━━━━━━━━━━━━━━━━━━━━\u001b[0m\u001b[37m\u001b[0m \u001b[1m1s\u001b[0m 47ms/step - loss: 0.0563 - val_loss: 0.0549 - learning_rate: 1.0000e-04\n",
            "Epoch 21/100\n",
            "\u001b[1m15/17\u001b[0m \u001b[32m━━━━━━━━━━━━━━━━━\u001b[0m\u001b[37m━━━\u001b[0m \u001b[1m0s\u001b[0m 29ms/step - loss: 0.0550\n",
            "Epoch 21: val_loss improved from 0.05493 to 0.05483, saving model to /content/drive/My Drive/ae_models/autoencoder_best.keras\n",
            "\u001b[1m17/17\u001b[0m \u001b[32m━━━━━━━━━━━━━━━━━━━━\u001b[0m\u001b[37m\u001b[0m \u001b[1m1s\u001b[0m 45ms/step - loss: 0.0550 - val_loss: 0.0548 - learning_rate: 1.0000e-04\n",
            "Epoch 22/100\n",
            "\u001b[1m15/17\u001b[0m \u001b[32m━━━━━━━━━━━━━━━━━\u001b[0m\u001b[37m━━━\u001b[0m \u001b[1m0s\u001b[0m 29ms/step - loss: 0.0555\n",
            "Epoch 22: val_loss improved from 0.05483 to 0.05483, saving model to /content/drive/My Drive/ae_models/autoencoder_best.keras\n",
            "\u001b[1m17/17\u001b[0m \u001b[32m━━━━━━━━━━━━━━━━━━━━\u001b[0m\u001b[37m\u001b[0m \u001b[1m1s\u001b[0m 45ms/step - loss: 0.0555 - val_loss: 0.0548 - learning_rate: 1.0000e-04\n",
            "Epoch 23/100\n",
            "\u001b[1m15/17\u001b[0m \u001b[32m━━━━━━━━━━━━━━━━━\u001b[0m\u001b[37m━━━\u001b[0m \u001b[1m0s\u001b[0m 28ms/step - loss: 0.0554\n",
            "Epoch 23: val_loss improved from 0.05483 to 0.05481, saving model to /content/drive/My Drive/ae_models/autoencoder_best.keras\n",
            "\u001b[1m17/17\u001b[0m \u001b[32m━━━━━━━━━━━━━━━━━━━━\u001b[0m\u001b[37m\u001b[0m \u001b[1m1s\u001b[0m 45ms/step - loss: 0.0554 - val_loss: 0.0548 - learning_rate: 1.0000e-04\n",
            "Epoch 24/100\n",
            "\u001b[1m15/17\u001b[0m \u001b[32m━━━━━━━━━━━━━━━━━\u001b[0m\u001b[37m━━━\u001b[0m \u001b[1m0s\u001b[0m 28ms/step - loss: 0.0556\n",
            "Epoch 24: val_loss improved from 0.05481 to 0.05474, saving model to /content/drive/My Drive/ae_models/autoencoder_best.keras\n",
            "\u001b[1m17/17\u001b[0m \u001b[32m━━━━━━━━━━━━━━━━━━━━\u001b[0m\u001b[37m\u001b[0m \u001b[1m1s\u001b[0m 44ms/step - loss: 0.0555 - val_loss: 0.0547 - learning_rate: 1.0000e-04\n",
            "Epoch 25/100\n",
            "\u001b[1m15/17\u001b[0m \u001b[32m━━━━━━━━━━━━━━━━━\u001b[0m\u001b[37m━━━\u001b[0m \u001b[1m0s\u001b[0m 30ms/step - loss: 0.0547\n",
            "Epoch 25: val_loss improved from 0.05474 to 0.05470, saving model to /content/drive/My Drive/ae_models/autoencoder_best.keras\n",
            "\u001b[1m17/17\u001b[0m \u001b[32m━━━━━━━━━━━━━━━━━━━━\u001b[0m\u001b[37m\u001b[0m \u001b[1m1s\u001b[0m 46ms/step - loss: 0.0548 - val_loss: 0.0547 - learning_rate: 1.0000e-04\n",
            "Epoch 26/100\n",
            "\u001b[1m17/17\u001b[0m \u001b[32m━━━━━━━━━━━━━━━━━━━━\u001b[0m\u001b[37m\u001b[0m \u001b[1m0s\u001b[0m 30ms/step - loss: 0.0549\n",
            "Epoch 26: val_loss did not improve from 0.05470\n",
            "\u001b[1m17/17\u001b[0m \u001b[32m━━━━━━━━━━━━━━━━━━━━\u001b[0m\u001b[37m\u001b[0m \u001b[1m1s\u001b[0m 36ms/step - loss: 0.0549 - val_loss: 0.0553 - learning_rate: 1.0000e-04\n",
            "Epoch 27/100\n",
            "\u001b[1m15/17\u001b[0m \u001b[32m━━━━━━━━━━━━━━━━━\u001b[0m\u001b[37m━━━\u001b[0m \u001b[1m0s\u001b[0m 29ms/step - loss: 0.0545\n",
            "Epoch 27: val_loss did not improve from 0.05470\n",
            "\u001b[1m17/17\u001b[0m \u001b[32m━━━━━━━━━━━━━━━━━━━━\u001b[0m\u001b[37m\u001b[0m \u001b[1m1s\u001b[0m 35ms/step - loss: 0.0546 - val_loss: 0.0547 - learning_rate: 1.0000e-04\n",
            "Epoch 28/100\n",
            "\u001b[1m15/17\u001b[0m \u001b[32m━━━━━━━━━━━━━━━━━\u001b[0m\u001b[37m━━━\u001b[0m \u001b[1m0s\u001b[0m 30ms/step - loss: 0.0541\n",
            "Epoch 28: val_loss did not improve from 0.05470\n",
            "\u001b[1m17/17\u001b[0m \u001b[32m━━━━━━━━━━━━━━━━━━━━\u001b[0m\u001b[37m\u001b[0m \u001b[1m1s\u001b[0m 36ms/step - loss: 0.0542 - val_loss: 0.0548 - learning_rate: 1.0000e-04\n",
            "Epoch 29/100\n",
            "\u001b[1m15/17\u001b[0m \u001b[32m━━━━━━━━━━━━━━━━━\u001b[0m\u001b[37m━━━\u001b[0m \u001b[1m0s\u001b[0m 28ms/step - loss: 0.0550\n",
            "Epoch 29: ReduceLROnPlateau reducing learning rate to 4.999999873689376e-05.\n",
            "\n",
            "Epoch 29: val_loss improved from 0.05470 to 0.05464, saving model to /content/drive/My Drive/ae_models/autoencoder_best.keras\n",
            "\u001b[1m17/17\u001b[0m \u001b[32m━━━━━━━━━━━━━━━━━━━━\u001b[0m\u001b[37m\u001b[0m \u001b[1m1s\u001b[0m 45ms/step - loss: 0.0550 - val_loss: 0.0546 - learning_rate: 1.0000e-04\n",
            "Epoch 30/100\n",
            "\u001b[1m16/17\u001b[0m \u001b[32m━━━━━━━━━━━━━━━━━━\u001b[0m\u001b[37m━━\u001b[0m \u001b[1m0s\u001b[0m 46ms/step - loss: 0.0551\n",
            "Epoch 30: val_loss improved from 0.05464 to 0.05462, saving model to /content/drive/My Drive/ae_models/autoencoder_best.keras\n",
            "\u001b[1m17/17\u001b[0m \u001b[32m━━━━━━━━━━━━━━━━━━━━\u001b[0m\u001b[37m\u001b[0m \u001b[1m2s\u001b[0m 70ms/step - loss: 0.0550 - val_loss: 0.0546 - learning_rate: 5.0000e-05\n",
            "Epoch 31/100\n",
            "\u001b[1m17/17\u001b[0m \u001b[32m━━━━━━━━━━━━━━━━━━━━\u001b[0m\u001b[37m\u001b[0m \u001b[1m0s\u001b[0m 46ms/step - loss: 0.0551\n",
            "Epoch 31: val_loss did not improve from 0.05462\n",
            "\u001b[1m17/17\u001b[0m \u001b[32m━━━━━━━━━━━━━━━━━━━━\u001b[0m\u001b[37m\u001b[0m \u001b[1m1s\u001b[0m 56ms/step - loss: 0.0551 - val_loss: 0.0546 - learning_rate: 5.0000e-05\n",
            "Epoch 32/100\n",
            "\u001b[1m17/17\u001b[0m \u001b[32m━━━━━━━━━━━━━━━━━━━━\u001b[0m\u001b[37m\u001b[0m \u001b[1m0s\u001b[0m 46ms/step - loss: 0.0550\n",
            "Epoch 32: val_loss did not improve from 0.05462\n",
            "\u001b[1m17/17\u001b[0m \u001b[32m━━━━━━━━━━━━━━━━━━━━\u001b[0m\u001b[37m\u001b[0m \u001b[1m1s\u001b[0m 60ms/step - loss: 0.0550 - val_loss: 0.0546 - learning_rate: 5.0000e-05\n",
            "Epoch 33/100\n",
            "\u001b[1m15/17\u001b[0m \u001b[32m━━━━━━━━━━━━━━━━━\u001b[0m\u001b[37m━━━\u001b[0m \u001b[1m0s\u001b[0m 30ms/step - loss: 0.0553\n",
            "Epoch 33: ReduceLROnPlateau reducing learning rate to 2.499999936844688e-05.\n",
            "\n",
            "Epoch 33: val_loss did not improve from 0.05462\n",
            "\u001b[1m17/17\u001b[0m \u001b[32m━━━━━━━━━━━━━━━━━━━━\u001b[0m\u001b[37m\u001b[0m \u001b[1m1s\u001b[0m 37ms/step - loss: 0.0552 - val_loss: 0.0547 - learning_rate: 5.0000e-05\n",
            "Epoch 34/100\n",
            "\u001b[1m17/17\u001b[0m \u001b[32m━━━━━━━━━━━━━━━━━━━━\u001b[0m\u001b[37m\u001b[0m \u001b[1m0s\u001b[0m 27ms/step - loss: 0.0549\n",
            "Epoch 34: val_loss improved from 0.05462 to 0.05461, saving model to /content/drive/My Drive/ae_models/autoencoder_best.keras\n",
            "\u001b[1m17/17\u001b[0m \u001b[32m━━━━━━━━━━━━━━━━━━━━\u001b[0m\u001b[37m\u001b[0m \u001b[1m1s\u001b[0m 46ms/step - loss: 0.0549 - val_loss: 0.0546 - learning_rate: 2.5000e-05\n",
            "Epoch 35/100\n",
            "\u001b[1m15/17\u001b[0m \u001b[32m━━━━━━━━━━━━━━━━━\u001b[0m\u001b[37m━━━\u001b[0m \u001b[1m0s\u001b[0m 28ms/step - loss: 0.0547\n",
            "Epoch 35: val_loss improved from 0.05461 to 0.05459, saving model to /content/drive/My Drive/ae_models/autoencoder_best.keras\n",
            "\u001b[1m17/17\u001b[0m \u001b[32m━━━━━━━━━━━━━━━━━━━━\u001b[0m\u001b[37m\u001b[0m \u001b[1m1s\u001b[0m 46ms/step - loss: 0.0547 - val_loss: 0.0546 - learning_rate: 2.5000e-05\n",
            "Epoch 36/100\n",
            "\u001b[1m15/17\u001b[0m \u001b[32m━━━━━━━━━━━━━━━━━\u001b[0m\u001b[37m━━━\u001b[0m \u001b[1m0s\u001b[0m 28ms/step - loss: 0.0547\n",
            "Epoch 36: val_loss did not improve from 0.05459\n",
            "\u001b[1m17/17\u001b[0m \u001b[32m━━━━━━━━━━━━━━━━━━━━\u001b[0m\u001b[37m\u001b[0m \u001b[1m1s\u001b[0m 34ms/step - loss: 0.0548 - val_loss: 0.0546 - learning_rate: 2.5000e-05\n",
            "Epoch 37/100\n",
            "\u001b[1m17/17\u001b[0m \u001b[32m━━━━━━━━━━━━━━━━━━━━\u001b[0m\u001b[37m\u001b[0m \u001b[1m0s\u001b[0m 29ms/step - loss: 0.0549\n",
            "Epoch 37: val_loss did not improve from 0.05459\n",
            "\u001b[1m17/17\u001b[0m \u001b[32m━━━━━━━━━━━━━━━━━━━━\u001b[0m\u001b[37m\u001b[0m \u001b[1m1s\u001b[0m 36ms/step - loss: 0.0549 - val_loss: 0.0546 - learning_rate: 2.5000e-05\n",
            "Epoch 38/100\n",
            "\u001b[1m17/17\u001b[0m \u001b[32m━━━━━━━━━━━━━━━━━━━━\u001b[0m\u001b[37m\u001b[0m \u001b[1m0s\u001b[0m 28ms/step - loss: 0.0553\n",
            "Epoch 38: val_loss improved from 0.05459 to 0.05458, saving model to /content/drive/My Drive/ae_models/autoencoder_best.keras\n",
            "\u001b[1m17/17\u001b[0m \u001b[32m━━━━━━━━━━━━━━━━━━━━\u001b[0m\u001b[37m\u001b[0m \u001b[1m1s\u001b[0m 46ms/step - loss: 0.0553 - val_loss: 0.0546 - learning_rate: 2.5000e-05\n",
            "Epoch 39/100\n",
            "\u001b[1m15/17\u001b[0m \u001b[32m━━━━━━━━━━━━━━━━━\u001b[0m\u001b[37m━━━\u001b[0m \u001b[1m0s\u001b[0m 30ms/step - loss: 0.0551\n",
            "Epoch 39: ReduceLROnPlateau reducing learning rate to 1.249999968422344e-05.\n",
            "\n",
            "Epoch 39: val_loss did not improve from 0.05458\n",
            "\u001b[1m17/17\u001b[0m \u001b[32m━━━━━━━━━━━━━━━━━━━━\u001b[0m\u001b[37m\u001b[0m \u001b[1m1s\u001b[0m 36ms/step - loss: 0.0551 - val_loss: 0.0546 - learning_rate: 2.5000e-05\n",
            "Epoch 40/100\n",
            "\u001b[1m17/17\u001b[0m \u001b[32m━━━━━━━━━━━━━━━━━━━━\u001b[0m\u001b[37m\u001b[0m \u001b[1m0s\u001b[0m 30ms/step - loss: 0.0547\n",
            "Epoch 40: val_loss improved from 0.05458 to 0.05457, saving model to /content/drive/My Drive/ae_models/autoencoder_best.keras\n",
            "\u001b[1m17/17\u001b[0m \u001b[32m━━━━━━━━━━━━━━━━━━━━\u001b[0m\u001b[37m\u001b[0m \u001b[1m1s\u001b[0m 47ms/step - loss: 0.0547 - val_loss: 0.0546 - learning_rate: 1.2500e-05\n",
            "Epoch 41/100\n",
            "\u001b[1m15/17\u001b[0m \u001b[32m━━━━━━━━━━━━━━━━━\u001b[0m\u001b[37m━━━\u001b[0m \u001b[1m0s\u001b[0m 30ms/step - loss: 0.0550\n",
            "Epoch 41: val_loss did not improve from 0.05457\n",
            "\u001b[1m17/17\u001b[0m \u001b[32m━━━━━━━━━━━━━━━━━━━━\u001b[0m\u001b[37m\u001b[0m \u001b[1m1s\u001b[0m 35ms/step - loss: 0.0550 - val_loss: 0.0546 - learning_rate: 1.2500e-05\n",
            "Epoch 42/100\n",
            "\u001b[1m17/17\u001b[0m \u001b[32m━━━━━━━━━━━━━━━━━━━━\u001b[0m\u001b[37m\u001b[0m \u001b[1m0s\u001b[0m 28ms/step - loss: 0.0549\n",
            "Epoch 42: val_loss did not improve from 0.05457\n",
            "\u001b[1m17/17\u001b[0m \u001b[32m━━━━━━━━━━━━━━━━━━━━\u001b[0m\u001b[37m\u001b[0m \u001b[1m1s\u001b[0m 34ms/step - loss: 0.0549 - val_loss: 0.0546 - learning_rate: 1.2500e-05\n",
            "Epoch 43/100\n",
            "\u001b[1m17/17\u001b[0m \u001b[32m━━━━━━━━━━━━━━━━━━━━\u001b[0m\u001b[37m\u001b[0m \u001b[1m0s\u001b[0m 30ms/step - loss: 0.0549\n",
            "Epoch 43: ReduceLROnPlateau reducing learning rate to 6.24999984211172e-06.\n",
            "\n",
            "Epoch 43: val_loss did not improve from 0.05457\n",
            "\u001b[1m17/17\u001b[0m \u001b[32m━━━━━━━━━━━━━━━━━━━━\u001b[0m\u001b[37m\u001b[0m \u001b[1m1s\u001b[0m 37ms/step - loss: 0.0549 - val_loss: 0.0546 - learning_rate: 1.2500e-05\n",
            "Epoch 44/100\n",
            "\u001b[1m16/17\u001b[0m \u001b[32m━━━━━━━━━━━━━━━━━━\u001b[0m\u001b[37m━━\u001b[0m \u001b[1m0s\u001b[0m 42ms/step - loss: 0.0553\n",
            "Epoch 44: val_loss did not improve from 0.05457\n",
            "\u001b[1m17/17\u001b[0m \u001b[32m━━━━━━━━━━━━━━━━━━━━\u001b[0m\u001b[37m\u001b[0m \u001b[1m1s\u001b[0m 51ms/step - loss: 0.0552 - val_loss: 0.0546 - learning_rate: 6.2500e-06\n",
            "Epoch 45/100\n",
            "\u001b[1m17/17\u001b[0m \u001b[32m━━━━━━━━━━━━━━━━━━━━\u001b[0m\u001b[37m\u001b[0m \u001b[1m0s\u001b[0m 46ms/step - loss: 0.0549\n",
            "Epoch 45: val_loss improved from 0.05457 to 0.05456, saving model to /content/drive/My Drive/ae_models/autoencoder_best.keras\n",
            "\u001b[1m17/17\u001b[0m \u001b[32m━━━━━━━━━━━━━━━━━━━━\u001b[0m\u001b[37m\u001b[0m \u001b[1m1s\u001b[0m 69ms/step - loss: 0.0549 - val_loss: 0.0546 - learning_rate: 6.2500e-06\n",
            "Epoch 46/100\n",
            "\u001b[1m16/17\u001b[0m \u001b[32m━━━━━━━━━━━━━━━━━━\u001b[0m\u001b[37m━━\u001b[0m \u001b[1m0s\u001b[0m 45ms/step - loss: 0.0553\n",
            "Epoch 46: val_loss improved from 0.05456 to 0.05456, saving model to /content/drive/My Drive/ae_models/autoencoder_best.keras\n",
            "\u001b[1m17/17\u001b[0m \u001b[32m━━━━━━━━━━━━━━━━━━━━\u001b[0m\u001b[37m\u001b[0m \u001b[1m1s\u001b[0m 70ms/step - loss: 0.0553 - val_loss: 0.0546 - learning_rate: 6.2500e-06\n",
            "Epoch 47/100\n",
            "\u001b[1m16/17\u001b[0m \u001b[32m━━━━━━━━━━━━━━━━━━\u001b[0m\u001b[37m━━\u001b[0m \u001b[1m0s\u001b[0m 46ms/step - loss: 0.0546\n",
            "Epoch 47: ReduceLROnPlateau reducing learning rate to 3.12499992105586e-06.\n",
            "\n",
            "Epoch 47: val_loss improved from 0.05456 to 0.05456, saving model to /content/drive/My Drive/ae_models/autoencoder_best.keras\n",
            "\u001b[1m17/17\u001b[0m \u001b[32m━━━━━━━━━━━━━━━━━━━━\u001b[0m\u001b[37m\u001b[0m \u001b[1m1s\u001b[0m 68ms/step - loss: 0.0547 - val_loss: 0.0546 - learning_rate: 6.2500e-06\n",
            "Epoch 48/100\n",
            "\u001b[1m15/17\u001b[0m \u001b[32m━━━━━━━━━━━━━━━━━\u001b[0m\u001b[37m━━━\u001b[0m \u001b[1m0s\u001b[0m 28ms/step - loss: 0.0555\n",
            "Epoch 48: val_loss improved from 0.05456 to 0.05456, saving model to /content/drive/My Drive/ae_models/autoencoder_best.keras\n",
            "\u001b[1m17/17\u001b[0m \u001b[32m━━━━━━━━━━━━━━━━━━━━\u001b[0m\u001b[37m\u001b[0m \u001b[1m1s\u001b[0m 44ms/step - loss: 0.0554 - val_loss: 0.0546 - learning_rate: 3.1250e-06\n",
            "Epoch 49/100\n",
            "\u001b[1m17/17\u001b[0m \u001b[32m━━━━━━━━━━━━━━━━━━━━\u001b[0m\u001b[37m\u001b[0m \u001b[1m0s\u001b[0m 28ms/step - loss: 0.0549\n",
            "Epoch 49: val_loss improved from 0.05456 to 0.05456, saving model to /content/drive/My Drive/ae_models/autoencoder_best.keras\n",
            "\u001b[1m17/17\u001b[0m \u001b[32m━━━━━━━━━━━━━━━━━━━━\u001b[0m\u001b[37m\u001b[0m \u001b[1m1s\u001b[0m 44ms/step - loss: 0.0549 - val_loss: 0.0546 - learning_rate: 3.1250e-06\n",
            "Epoch 50/100\n",
            "\u001b[1m15/17\u001b[0m \u001b[32m━━━━━━━━━━━━━━━━━\u001b[0m\u001b[37m━━━\u001b[0m \u001b[1m0s\u001b[0m 31ms/step - loss: 0.0548\n",
            "Epoch 50: val_loss did not improve from 0.05456\n",
            "\u001b[1m17/17\u001b[0m \u001b[32m━━━━━━━━━━━━━━━━━━━━\u001b[0m\u001b[37m\u001b[0m \u001b[1m1s\u001b[0m 36ms/step - loss: 0.0548 - val_loss: 0.0546 - learning_rate: 3.1250e-06\n",
            "Epoch 51/100\n",
            "\u001b[1m15/17\u001b[0m \u001b[32m━━━━━━━━━━━━━━━━━\u001b[0m\u001b[37m━━━\u001b[0m \u001b[1m0s\u001b[0m 29ms/step - loss: 0.0547\n",
            "Epoch 51: ReduceLROnPlateau reducing learning rate to 1.56249996052793e-06.\n",
            "\n",
            "Epoch 51: val_loss improved from 0.05456 to 0.05456, saving model to /content/drive/My Drive/ae_models/autoencoder_best.keras\n",
            "\u001b[1m17/17\u001b[0m \u001b[32m━━━━━━━━━━━━━━━━━━━━\u001b[0m\u001b[37m\u001b[0m \u001b[1m1s\u001b[0m 45ms/step - loss: 0.0547 - val_loss: 0.0546 - learning_rate: 3.1250e-06\n",
            "Epoch 52/100\n",
            "\u001b[1m17/17\u001b[0m \u001b[32m━━━━━━━━━━━━━━━━━━━━\u001b[0m\u001b[37m\u001b[0m \u001b[1m0s\u001b[0m 30ms/step - loss: 0.0549\n",
            "Epoch 52: val_loss improved from 0.05456 to 0.05456, saving model to /content/drive/My Drive/ae_models/autoencoder_best.keras\n",
            "\u001b[1m17/17\u001b[0m \u001b[32m━━━━━━━━━━━━━━━━━━━━\u001b[0m\u001b[37m\u001b[0m \u001b[1m1s\u001b[0m 46ms/step - loss: 0.0549 - val_loss: 0.0546 - learning_rate: 1.5625e-06\n",
            "Epoch 53/100\n",
            "\u001b[1m15/17\u001b[0m \u001b[32m━━━━━━━━━━━━━━━━━\u001b[0m\u001b[37m━━━\u001b[0m \u001b[1m0s\u001b[0m 29ms/step - loss: 0.0548\n",
            "Epoch 53: val_loss improved from 0.05456 to 0.05456, saving model to /content/drive/My Drive/ae_models/autoencoder_best.keras\n",
            "\u001b[1m17/17\u001b[0m \u001b[32m━━━━━━━━━━━━━━━━━━━━\u001b[0m\u001b[37m\u001b[0m \u001b[1m1s\u001b[0m 44ms/step - loss: 0.0548 - val_loss: 0.0546 - learning_rate: 1.5625e-06\n",
            "Epoch 54/100\n",
            "\u001b[1m15/17\u001b[0m \u001b[32m━━━━━━━━━━━━━━━━━\u001b[0m\u001b[37m━━━\u001b[0m \u001b[1m0s\u001b[0m 28ms/step - loss: 0.0546\n",
            "Epoch 54: val_loss did not improve from 0.05456\n",
            "\u001b[1m17/17\u001b[0m \u001b[32m━━━━━━━━━━━━━━━━━━━━\u001b[0m\u001b[37m\u001b[0m \u001b[1m1s\u001b[0m 34ms/step - loss: 0.0547 - val_loss: 0.0546 - learning_rate: 1.5625e-06\n",
            "Epoch 55/100\n",
            "\u001b[1m17/17\u001b[0m \u001b[32m━━━━━━━━━━━━━━━━━━━━\u001b[0m\u001b[37m\u001b[0m \u001b[1m0s\u001b[0m 30ms/step - loss: 0.0543\n",
            "Epoch 55: ReduceLROnPlateau reducing learning rate to 1e-06.\n",
            "\n",
            "Epoch 55: val_loss improved from 0.05456 to 0.05455, saving model to /content/drive/My Drive/ae_models/autoencoder_best.keras\n",
            "\u001b[1m17/17\u001b[0m \u001b[32m━━━━━━━━━━━━━━━━━━━━\u001b[0m\u001b[37m\u001b[0m \u001b[1m1s\u001b[0m 46ms/step - loss: 0.0543 - val_loss: 0.0546 - learning_rate: 1.5625e-06\n",
            "Epoch 56/100\n",
            "\u001b[1m17/17\u001b[0m \u001b[32m━━━━━━━━━━━━━━━━━━━━\u001b[0m\u001b[37m\u001b[0m \u001b[1m0s\u001b[0m 28ms/step - loss: 0.0549\n",
            "Epoch 56: val_loss did not improve from 0.05455\n",
            "\u001b[1m17/17\u001b[0m \u001b[32m━━━━━━━━━━━━━━━━━━━━\u001b[0m\u001b[37m\u001b[0m \u001b[1m1s\u001b[0m 36ms/step - loss: 0.0549 - val_loss: 0.0546 - learning_rate: 1.0000e-06\n",
            "Epoch 57/100\n",
            "\u001b[1m15/17\u001b[0m \u001b[32m━━━━━━━━━━━━━━━━━\u001b[0m\u001b[37m━━━\u001b[0m \u001b[1m0s\u001b[0m 29ms/step - loss: 0.0548\n",
            "Epoch 57: val_loss did not improve from 0.05455\n",
            "\u001b[1m17/17\u001b[0m \u001b[32m━━━━━━━━━━━━━━━━━━━━\u001b[0m\u001b[37m\u001b[0m \u001b[1m1s\u001b[0m 34ms/step - loss: 0.0548 - val_loss: 0.0546 - learning_rate: 1.0000e-06\n",
            "Epoch 58/100\n",
            "\u001b[1m16/17\u001b[0m \u001b[32m━━━━━━━━━━━━━━━━━━\u001b[0m\u001b[37m━━\u001b[0m \u001b[1m0s\u001b[0m 31ms/step - loss: 0.0544\n",
            "Epoch 58: val_loss improved from 0.05455 to 0.05455, saving model to /content/drive/My Drive/ae_models/autoencoder_best.keras\n",
            "\u001b[1m17/17\u001b[0m \u001b[32m━━━━━━━━━━━━━━━━━━━━\u001b[0m\u001b[37m\u001b[0m \u001b[1m1s\u001b[0m 47ms/step - loss: 0.0545 - val_loss: 0.0546 - learning_rate: 1.0000e-06\n",
            "Epoch 59/100\n",
            "\u001b[1m17/17\u001b[0m \u001b[32m━━━━━━━━━━━━━━━━━━━━\u001b[0m\u001b[37m\u001b[0m \u001b[1m0s\u001b[0m 45ms/step - loss: 0.0552\n",
            "Epoch 59: val_loss did not improve from 0.05455\n",
            "\u001b[1m17/17\u001b[0m \u001b[32m━━━━━━━━━━━━━━━━━━━━\u001b[0m\u001b[37m\u001b[0m \u001b[1m1s\u001b[0m 59ms/step - loss: 0.0551 - val_loss: 0.0546 - learning_rate: 1.0000e-06\n",
            "Epoch 60/100\n",
            "\u001b[1m17/17\u001b[0m \u001b[32m━━━━━━━━━━━━━━━━━━━━\u001b[0m\u001b[37m\u001b[0m \u001b[1m0s\u001b[0m 45ms/step - loss: 0.0550\n",
            "Epoch 60: val_loss improved from 0.05455 to 0.05455, saving model to /content/drive/My Drive/ae_models/autoencoder_best.keras\n",
            "\u001b[1m17/17\u001b[0m \u001b[32m━━━━━━━━━━━━━━━━━━━━\u001b[0m\u001b[37m\u001b[0m \u001b[1m1s\u001b[0m 70ms/step - loss: 0.0550 - val_loss: 0.0546 - learning_rate: 1.0000e-06\n",
            "Epoch 61/100\n",
            "\u001b[1m17/17\u001b[0m \u001b[32m━━━━━━━━━━━━━━━━━━━━\u001b[0m\u001b[37m\u001b[0m \u001b[1m0s\u001b[0m 44ms/step - loss: 0.0541\n",
            "Epoch 61: val_loss improved from 0.05455 to 0.05455, saving model to /content/drive/My Drive/ae_models/autoencoder_best.keras\n",
            "\u001b[1m17/17\u001b[0m \u001b[32m━━━━━━━━━━━━━━━━━━━━\u001b[0m\u001b[37m\u001b[0m \u001b[1m1s\u001b[0m 63ms/step - loss: 0.0541 - val_loss: 0.0546 - learning_rate: 1.0000e-06\n",
            "Epoch 62/100\n",
            "\u001b[1m17/17\u001b[0m \u001b[32m━━━━━━━━━━━━━━━━━━━━\u001b[0m\u001b[37m\u001b[0m \u001b[1m0s\u001b[0m 29ms/step - loss: 0.0550\n",
            "Epoch 62: val_loss did not improve from 0.05455\n",
            "\u001b[1m17/17\u001b[0m \u001b[32m━━━━━━━━━━━━━━━━━━━━\u001b[0m\u001b[37m\u001b[0m \u001b[1m1s\u001b[0m 36ms/step - loss: 0.0550 - val_loss: 0.0546 - learning_rate: 1.0000e-06\n",
            "Epoch 63/100\n",
            "\u001b[1m15/17\u001b[0m \u001b[32m━━━━━━━━━━━━━━━━━\u001b[0m\u001b[37m━━━\u001b[0m \u001b[1m0s\u001b[0m 31ms/step - loss: 0.0551\n",
            "Epoch 63: val_loss improved from 0.05455 to 0.05455, saving model to /content/drive/My Drive/ae_models/autoencoder_best.keras\n",
            "\u001b[1m17/17\u001b[0m \u001b[32m━━━━━━━━━━━━━━━━━━━━\u001b[0m\u001b[37m\u001b[0m \u001b[1m1s\u001b[0m 46ms/step - loss: 0.0551 - val_loss: 0.0546 - learning_rate: 1.0000e-06\n",
            "Epoch 64/100\n",
            "\u001b[1m15/17\u001b[0m \u001b[32m━━━━━━━━━━━━━━━━━\u001b[0m\u001b[37m━━━\u001b[0m \u001b[1m0s\u001b[0m 31ms/step - loss: 0.0546\n",
            "Epoch 64: val_loss improved from 0.05455 to 0.05455, saving model to /content/drive/My Drive/ae_models/autoencoder_best.keras\n",
            "\u001b[1m17/17\u001b[0m \u001b[32m━━━━━━━━━━━━━━━━━━━━\u001b[0m\u001b[37m\u001b[0m \u001b[1m1s\u001b[0m 48ms/step - loss: 0.0547 - val_loss: 0.0546 - learning_rate: 1.0000e-06\n",
            "Epoch 65/100\n",
            "\u001b[1m17/17\u001b[0m \u001b[32m━━━━━━━━━━━━━━━━━━━━\u001b[0m\u001b[37m\u001b[0m \u001b[1m0s\u001b[0m 29ms/step - loss: 0.0547\n",
            "Epoch 65: val_loss did not improve from 0.05455\n",
            "\u001b[1m17/17\u001b[0m \u001b[32m━━━━━━━━━━━━━━━━━━━━\u001b[0m\u001b[37m\u001b[0m \u001b[1m1s\u001b[0m 35ms/step - loss: 0.0547 - val_loss: 0.0546 - learning_rate: 1.0000e-06\n",
            "Epoch 66/100\n",
            "\u001b[1m17/17\u001b[0m \u001b[32m━━━━━━━━━━━━━━━━━━━━\u001b[0m\u001b[37m\u001b[0m \u001b[1m0s\u001b[0m 28ms/step - loss: 0.0551\n",
            "Epoch 66: val_loss did not improve from 0.05455\n",
            "\u001b[1m17/17\u001b[0m \u001b[32m━━━━━━━━━━━━━━━━━━━━\u001b[0m\u001b[37m\u001b[0m \u001b[1m1s\u001b[0m 36ms/step - loss: 0.0551 - val_loss: 0.0546 - learning_rate: 1.0000e-06\n",
            "Epoch 67/100\n",
            "\u001b[1m15/17\u001b[0m \u001b[32m━━━━━━━━━━━━━━━━━\u001b[0m\u001b[37m━━━\u001b[0m \u001b[1m0s\u001b[0m 29ms/step - loss: 0.0550\n",
            "Epoch 67: val_loss improved from 0.05455 to 0.05455, saving model to /content/drive/My Drive/ae_models/autoencoder_best.keras\n",
            "\u001b[1m17/17\u001b[0m \u001b[32m━━━━━━━━━━━━━━━━━━━━\u001b[0m\u001b[37m\u001b[0m \u001b[1m1s\u001b[0m 45ms/step - loss: 0.0549 - val_loss: 0.0546 - learning_rate: 1.0000e-06\n",
            "Epoch 68/100\n",
            "\u001b[1m15/17\u001b[0m \u001b[32m━━━━━━━━━━━━━━━━━\u001b[0m\u001b[37m━━━\u001b[0m \u001b[1m0s\u001b[0m 31ms/step - loss: 0.0547\n",
            "Epoch 68: val_loss did not improve from 0.05455\n",
            "\u001b[1m17/17\u001b[0m \u001b[32m━━━━━━━━━━━━━━━━━━━━\u001b[0m\u001b[37m\u001b[0m \u001b[1m1s\u001b[0m 37ms/step - loss: 0.0547 - val_loss: 0.0546 - learning_rate: 1.0000e-06\n",
            "Epoch 69/100\n",
            "\u001b[1m17/17\u001b[0m \u001b[32m━━━━━━━━━━━━━━━━━━━━\u001b[0m\u001b[37m\u001b[0m \u001b[1m0s\u001b[0m 29ms/step - loss: 0.0553\n",
            "Epoch 69: val_loss improved from 0.05455 to 0.05455, saving model to /content/drive/My Drive/ae_models/autoencoder_best.keras\n",
            "\u001b[1m17/17\u001b[0m \u001b[32m━━━━━━━━━━━━━━━━━━━━\u001b[0m\u001b[37m\u001b[0m \u001b[1m1s\u001b[0m 46ms/step - loss: 0.0553 - val_loss: 0.0546 - learning_rate: 1.0000e-06\n",
            "Epoch 70/100\n",
            "\u001b[1m16/17\u001b[0m \u001b[32m━━━━━━━━━━━━━━━━━━\u001b[0m\u001b[37m━━\u001b[0m \u001b[1m0s\u001b[0m 30ms/step - loss: 0.0544\n",
            "Epoch 70: val_loss did not improve from 0.05455\n",
            "\u001b[1m17/17\u001b[0m \u001b[32m━━━━━━━━━━━━━━━━━━━━\u001b[0m\u001b[37m\u001b[0m \u001b[1m1s\u001b[0m 37ms/step - loss: 0.0545 - val_loss: 0.0546 - learning_rate: 1.0000e-06\n",
            "Epoch 71/100\n",
            "\u001b[1m17/17\u001b[0m \u001b[32m━━━━━━━━━━━━━━━━━━━━\u001b[0m\u001b[37m\u001b[0m \u001b[1m0s\u001b[0m 28ms/step - loss: 0.0549\n",
            "Epoch 71: val_loss did not improve from 0.05455\n",
            "\u001b[1m17/17\u001b[0m \u001b[32m━━━━━━━━━━━━━━━━━━━━\u001b[0m\u001b[37m\u001b[0m \u001b[1m1s\u001b[0m 35ms/step - loss: 0.0549 - val_loss: 0.0546 - learning_rate: 1.0000e-06\n",
            "Epoch 72/100\n",
            "\u001b[1m17/17\u001b[0m \u001b[32m━━━━━━━━━━━━━━━━━━━━\u001b[0m\u001b[37m\u001b[0m \u001b[1m0s\u001b[0m 31ms/step - loss: 0.0549\n",
            "Epoch 72: val_loss improved from 0.05455 to 0.05455, saving model to /content/drive/My Drive/ae_models/autoencoder_best.keras\n",
            "\u001b[1m17/17\u001b[0m \u001b[32m━━━━━━━━━━━━━━━━━━━━\u001b[0m\u001b[37m\u001b[0m \u001b[1m1s\u001b[0m 51ms/step - loss: 0.0549 - val_loss: 0.0546 - learning_rate: 1.0000e-06\n",
            "Epoch 73/100\n",
            "\u001b[1m16/17\u001b[0m \u001b[32m━━━━━━━━━━━━━━━━━━\u001b[0m\u001b[37m━━\u001b[0m \u001b[1m0s\u001b[0m 46ms/step - loss: 0.0549\n",
            "Epoch 73: val_loss improved from 0.05455 to 0.05455, saving model to /content/drive/My Drive/ae_models/autoencoder_best.keras\n",
            "\u001b[1m17/17\u001b[0m \u001b[32m━━━━━━━━━━━━━━━━━━━━\u001b[0m\u001b[37m\u001b[0m \u001b[1m1s\u001b[0m 67ms/step - loss: 0.0549 - val_loss: 0.0546 - learning_rate: 1.0000e-06\n",
            "Epoch 74/100\n",
            "\u001b[1m16/17\u001b[0m \u001b[32m━━━━━━━━━━━━━━━━━━\u001b[0m\u001b[37m━━\u001b[0m \u001b[1m0s\u001b[0m 50ms/step - loss: 0.0544\n",
            "Epoch 74: val_loss did not improve from 0.05455\n",
            "\u001b[1m17/17\u001b[0m \u001b[32m━━━━━━━━━━━━━━━━━━━━\u001b[0m\u001b[37m\u001b[0m \u001b[1m1s\u001b[0m 62ms/step - loss: 0.0545 - val_loss: 0.0546 - learning_rate: 1.0000e-06\n",
            "Epoch 75/100\n",
            "\u001b[1m16/17\u001b[0m \u001b[32m━━━━━━━━━━━━━━━━━━\u001b[0m\u001b[37m━━\u001b[0m \u001b[1m0s\u001b[0m 49ms/step - loss: 0.0547\n",
            "Epoch 75: val_loss did not improve from 0.05455\n",
            "\u001b[1m17/17\u001b[0m \u001b[32m━━━━━━━━━━━━━━━━━━━━\u001b[0m\u001b[37m\u001b[0m \u001b[1m1s\u001b[0m 59ms/step - loss: 0.0547 - val_loss: 0.0546 - learning_rate: 1.0000e-06\n",
            "Epoch 76/100\n",
            "\u001b[1m17/17\u001b[0m \u001b[32m━━━━━━━━━━━━━━━━━━━━\u001b[0m\u001b[37m\u001b[0m \u001b[1m0s\u001b[0m 40ms/step - loss: 0.0548\n",
            "Epoch 76: val_loss did not improve from 0.05455\n",
            "\u001b[1m17/17\u001b[0m \u001b[32m━━━━━━━━━━━━━━━━━━━━\u001b[0m\u001b[37m\u001b[0m \u001b[1m1s\u001b[0m 47ms/step - loss: 0.0548 - val_loss: 0.0546 - learning_rate: 1.0000e-06\n",
            "Epoch 77/100\n",
            "\u001b[1m15/17\u001b[0m \u001b[32m━━━━━━━━━━━━━━━━━\u001b[0m\u001b[37m━━━\u001b[0m \u001b[1m0s\u001b[0m 30ms/step - loss: 0.0548\n",
            "Epoch 77: val_loss did not improve from 0.05455\n",
            "\u001b[1m17/17\u001b[0m \u001b[32m━━━━━━━━━━━━━━━━━━━━\u001b[0m\u001b[37m\u001b[0m \u001b[1m1s\u001b[0m 36ms/step - loss: 0.0548 - val_loss: 0.0546 - learning_rate: 1.0000e-06\n",
            "Epoch 78/100\n",
            "\u001b[1m15/17\u001b[0m \u001b[32m━━━━━━━━━━━━━━━━━\u001b[0m\u001b[37m━━━\u001b[0m \u001b[1m0s\u001b[0m 29ms/step - loss: 0.0545\n",
            "Epoch 78: val_loss did not improve from 0.05455\n",
            "\u001b[1m17/17\u001b[0m \u001b[32m━━━━━━━━━━━━━━━━━━━━\u001b[0m\u001b[37m\u001b[0m \u001b[1m1s\u001b[0m 36ms/step - loss: 0.0545 - val_loss: 0.0546 - learning_rate: 1.0000e-06\n",
            "Epoch 79/100\n",
            "\u001b[1m15/17\u001b[0m \u001b[32m━━━━━━━━━━━━━━━━━\u001b[0m\u001b[37m━━━\u001b[0m \u001b[1m0s\u001b[0m 29ms/step - loss: 0.0552\n",
            "Epoch 79: val_loss improved from 0.05455 to 0.05455, saving model to /content/drive/My Drive/ae_models/autoencoder_best.keras\n",
            "\u001b[1m17/17\u001b[0m \u001b[32m━━━━━━━━━━━━━━━━━━━━\u001b[0m\u001b[37m\u001b[0m \u001b[1m1s\u001b[0m 45ms/step - loss: 0.0551 - val_loss: 0.0545 - learning_rate: 1.0000e-06\n",
            "Epoch 80/100\n",
            "\u001b[1m15/17\u001b[0m \u001b[32m━━━━━━━━━━━━━━━━━\u001b[0m\u001b[37m━━━\u001b[0m \u001b[1m0s\u001b[0m 28ms/step - loss: 0.0551\n",
            "Epoch 80: val_loss did not improve from 0.05455\n",
            "\u001b[1m17/17\u001b[0m \u001b[32m━━━━━━━━━━━━━━━━━━━━\u001b[0m\u001b[37m\u001b[0m \u001b[1m1s\u001b[0m 34ms/step - loss: 0.0551 - val_loss: 0.0546 - learning_rate: 1.0000e-06\n",
            "Epoch 81/100\n",
            "\u001b[1m15/17\u001b[0m \u001b[32m━━━━━━━━━━━━━━━━━\u001b[0m\u001b[37m━━━\u001b[0m \u001b[1m0s\u001b[0m 30ms/step - loss: 0.0549\n",
            "Epoch 81: val_loss improved from 0.05455 to 0.05455, saving model to /content/drive/My Drive/ae_models/autoencoder_best.keras\n",
            "\u001b[1m17/17\u001b[0m \u001b[32m━━━━━━━━━━━━━━━━━━━━\u001b[0m\u001b[37m\u001b[0m \u001b[1m1s\u001b[0m 46ms/step - loss: 0.0549 - val_loss: 0.0545 - learning_rate: 1.0000e-06\n",
            "Epoch 82/100\n",
            "\u001b[1m17/17\u001b[0m \u001b[32m━━━━━━━━━━━━━━━━━━━━\u001b[0m\u001b[37m\u001b[0m \u001b[1m0s\u001b[0m 30ms/step - loss: 0.0550\n",
            "Epoch 82: val_loss improved from 0.05455 to 0.05455, saving model to /content/drive/My Drive/ae_models/autoencoder_best.keras\n",
            "\u001b[1m17/17\u001b[0m \u001b[32m━━━━━━━━━━━━━━━━━━━━\u001b[0m\u001b[37m\u001b[0m \u001b[1m1s\u001b[0m 47ms/step - loss: 0.0550 - val_loss: 0.0545 - learning_rate: 1.0000e-06\n",
            "Epoch 83/100\n",
            "\u001b[1m16/17\u001b[0m \u001b[32m━━━━━━━━━━━━━━━━━━\u001b[0m\u001b[37m━━\u001b[0m \u001b[1m0s\u001b[0m 31ms/step - loss: 0.0544\n",
            "Epoch 83: val_loss improved from 0.05455 to 0.05455, saving model to /content/drive/My Drive/ae_models/autoencoder_best.keras\n",
            "\u001b[1m17/17\u001b[0m \u001b[32m━━━━━━━━━━━━━━━━━━━━\u001b[0m\u001b[37m\u001b[0m \u001b[1m1s\u001b[0m 47ms/step - loss: 0.0544 - val_loss: 0.0545 - learning_rate: 1.0000e-06\n",
            "Epoch 84/100\n",
            "\u001b[1m15/17\u001b[0m \u001b[32m━━━━━━━━━━━━━━━━━\u001b[0m\u001b[37m━━━\u001b[0m \u001b[1m0s\u001b[0m 29ms/step - loss: 0.0548\n",
            "Epoch 84: val_loss did not improve from 0.05455\n",
            "\u001b[1m17/17\u001b[0m \u001b[32m━━━━━━━━━━━━━━━━━━━━\u001b[0m\u001b[37m\u001b[0m \u001b[1m1s\u001b[0m 35ms/step - loss: 0.0548 - val_loss: 0.0545 - learning_rate: 1.0000e-06\n",
            "Epoch 85/100\n",
            "\u001b[1m15/17\u001b[0m \u001b[32m━━━━━━━━━━━━━━━━━\u001b[0m\u001b[37m━━━\u001b[0m \u001b[1m0s\u001b[0m 30ms/step - loss: 0.0552\n",
            "Epoch 85: val_loss improved from 0.05455 to 0.05455, saving model to /content/drive/My Drive/ae_models/autoencoder_best.keras\n",
            "\u001b[1m17/17\u001b[0m \u001b[32m━━━━━━━━━━━━━━━━━━━━\u001b[0m\u001b[37m\u001b[0m \u001b[1m1s\u001b[0m 46ms/step - loss: 0.0551 - val_loss: 0.0545 - learning_rate: 1.0000e-06\n",
            "Epoch 86/100\n",
            "\u001b[1m17/17\u001b[0m \u001b[32m━━━━━━━━━━━━━━━━━━━━\u001b[0m\u001b[37m\u001b[0m \u001b[1m0s\u001b[0m 29ms/step - loss: 0.0545\n",
            "Epoch 86: val_loss improved from 0.05455 to 0.05455, saving model to /content/drive/My Drive/ae_models/autoencoder_best.keras\n",
            "\u001b[1m17/17\u001b[0m \u001b[32m━━━━━━━━━━━━━━━━━━━━\u001b[0m\u001b[37m\u001b[0m \u001b[1m1s\u001b[0m 51ms/step - loss: 0.0545 - val_loss: 0.0545 - learning_rate: 1.0000e-06\n",
            "Epoch 87/100\n",
            "\u001b[1m17/17\u001b[0m \u001b[32m━━━━━━━━━━━━━━━━━━━━\u001b[0m\u001b[37m\u001b[0m \u001b[1m0s\u001b[0m 29ms/step - loss: 0.0548\n",
            "Epoch 87: val_loss improved from 0.05455 to 0.05455, saving model to /content/drive/My Drive/ae_models/autoencoder_best.keras\n",
            "\u001b[1m17/17\u001b[0m \u001b[32m━━━━━━━━━━━━━━━━━━━━\u001b[0m\u001b[37m\u001b[0m \u001b[1m1s\u001b[0m 56ms/step - loss: 0.0548 - val_loss: 0.0545 - learning_rate: 1.0000e-06\n",
            "Epoch 88/100\n",
            "\u001b[1m16/17\u001b[0m \u001b[32m━━━━━━━━━━━━━━━━━━\u001b[0m\u001b[37m━━\u001b[0m \u001b[1m0s\u001b[0m 47ms/step - loss: 0.0545\n",
            "Epoch 88: val_loss did not improve from 0.05455\n",
            "\u001b[1m17/17\u001b[0m \u001b[32m━━━━━━━━━━━━━━━━━━━━\u001b[0m\u001b[37m\u001b[0m \u001b[1m1s\u001b[0m 60ms/step - loss: 0.0545 - val_loss: 0.0545 - learning_rate: 1.0000e-06\n",
            "Epoch 89/100\n",
            "\u001b[1m17/17\u001b[0m \u001b[32m━━━━━━━━━━━━━━━━━━━━\u001b[0m\u001b[37m\u001b[0m \u001b[1m0s\u001b[0m 49ms/step - loss: 0.0547\n",
            "Epoch 89: val_loss did not improve from 0.05455\n",
            "\u001b[1m17/17\u001b[0m \u001b[32m━━━━━━━━━━━━━━━━━━━━\u001b[0m\u001b[37m\u001b[0m \u001b[1m1s\u001b[0m 59ms/step - loss: 0.0547 - val_loss: 0.0545 - learning_rate: 1.0000e-06\n",
            "Epoch 90/100\n",
            "\u001b[1m17/17\u001b[0m \u001b[32m━━━━━━━━━━━━━━━━━━━━\u001b[0m\u001b[37m\u001b[0m \u001b[1m0s\u001b[0m 45ms/step - loss: 0.0553\n",
            "Epoch 90: val_loss improved from 0.05455 to 0.05455, saving model to /content/drive/My Drive/ae_models/autoencoder_best.keras\n",
            "\u001b[1m17/17\u001b[0m \u001b[32m━━━━━━━━━━━━━━━━━━━━\u001b[0m\u001b[37m\u001b[0m \u001b[1m1s\u001b[0m 62ms/step - loss: 0.0553 - val_loss: 0.0545 - learning_rate: 1.0000e-06\n",
            "Epoch 91/100\n",
            "\u001b[1m17/17\u001b[0m \u001b[32m━━━━━━━━━━━━━━━━━━━━\u001b[0m\u001b[37m\u001b[0m \u001b[1m0s\u001b[0m 30ms/step - loss: 0.0547\n",
            "Epoch 91: val_loss improved from 0.05455 to 0.05455, saving model to /content/drive/My Drive/ae_models/autoencoder_best.keras\n",
            "\u001b[1m17/17\u001b[0m \u001b[32m━━━━━━━━━━━━━━━━━━━━\u001b[0m\u001b[37m\u001b[0m \u001b[1m1s\u001b[0m 46ms/step - loss: 0.0547 - val_loss: 0.0545 - learning_rate: 1.0000e-06\n",
            "Epoch 92/100\n",
            "\u001b[1m17/17\u001b[0m \u001b[32m━━━━━━━━━━━━━━━━━━━━\u001b[0m\u001b[37m\u001b[0m \u001b[1m0s\u001b[0m 31ms/step - loss: 0.0552\n",
            "Epoch 92: val_loss did not improve from 0.05455\n",
            "\u001b[1m17/17\u001b[0m \u001b[32m━━━━━━━━━━━━━━━━━━━━\u001b[0m\u001b[37m\u001b[0m \u001b[1m1s\u001b[0m 38ms/step - loss: 0.0552 - val_loss: 0.0545 - learning_rate: 1.0000e-06\n",
            "Epoch 93/100\n",
            "\u001b[1m15/17\u001b[0m \u001b[32m━━━━━━━━━━━━━━━━━\u001b[0m\u001b[37m━━━\u001b[0m \u001b[1m0s\u001b[0m 29ms/step - loss: 0.0553\n",
            "Epoch 93: val_loss did not improve from 0.05455\n",
            "\u001b[1m17/17\u001b[0m \u001b[32m━━━━━━━━━━━━━━━━━━━━\u001b[0m\u001b[37m\u001b[0m \u001b[1m1s\u001b[0m 36ms/step - loss: 0.0552 - val_loss: 0.0545 - learning_rate: 1.0000e-06\n",
            "Epoch 94/100\n",
            "\u001b[1m16/17\u001b[0m \u001b[32m━━━━━━━━━━━━━━━━━━\u001b[0m\u001b[37m━━\u001b[0m \u001b[1m0s\u001b[0m 38ms/step - loss: 0.0552\n",
            "Epoch 94: val_loss improved from 0.05455 to 0.05455, saving model to /content/drive/My Drive/ae_models/autoencoder_best.keras\n",
            "\u001b[1m17/17\u001b[0m \u001b[32m━━━━━━━━━━━━━━━━━━━━\u001b[0m\u001b[37m\u001b[0m \u001b[1m2s\u001b[0m 63ms/step - loss: 0.0552 - val_loss: 0.0545 - learning_rate: 1.0000e-06\n",
            "Epoch 95/100\n",
            "\u001b[1m17/17\u001b[0m \u001b[32m━━━━━━━━━━━━━━━━━━━━\u001b[0m\u001b[37m\u001b[0m \u001b[1m0s\u001b[0m 30ms/step - loss: 0.0546\n",
            "Epoch 95: val_loss improved from 0.05455 to 0.05455, saving model to /content/drive/My Drive/ae_models/autoencoder_best.keras\n",
            "\u001b[1m17/17\u001b[0m \u001b[32m━━━━━━━━━━━━━━━━━━━━\u001b[0m\u001b[37m\u001b[0m \u001b[1m1s\u001b[0m 47ms/step - loss: 0.0546 - val_loss: 0.0545 - learning_rate: 1.0000e-06\n",
            "Epoch 96/100\n",
            "\u001b[1m17/17\u001b[0m \u001b[32m━━━━━━━━━━━━━━━━━━━━\u001b[0m\u001b[37m\u001b[0m \u001b[1m0s\u001b[0m 30ms/step - loss: 0.0546\n",
            "Epoch 96: val_loss did not improve from 0.05455\n",
            "\u001b[1m17/17\u001b[0m \u001b[32m━━━━━━━━━━━━━━━━━━━━\u001b[0m\u001b[37m\u001b[0m \u001b[1m1s\u001b[0m 38ms/step - loss: 0.0546 - val_loss: 0.0545 - learning_rate: 1.0000e-06\n",
            "Epoch 97/100\n",
            "\u001b[1m17/17\u001b[0m \u001b[32m━━━━━━━━━━━━━━━━━━━━\u001b[0m\u001b[37m\u001b[0m \u001b[1m0s\u001b[0m 29ms/step - loss: 0.0545\n",
            "Epoch 97: val_loss improved from 0.05455 to 0.05455, saving model to /content/drive/My Drive/ae_models/autoencoder_best.keras\n",
            "\u001b[1m17/17\u001b[0m \u001b[32m━━━━━━━━━━━━━━━━━━━━\u001b[0m\u001b[37m\u001b[0m \u001b[1m1s\u001b[0m 45ms/step - loss: 0.0545 - val_loss: 0.0545 - learning_rate: 1.0000e-06\n",
            "Epoch 98/100\n",
            "\u001b[1m15/17\u001b[0m \u001b[32m━━━━━━━━━━━━━━━━━\u001b[0m\u001b[37m━━━\u001b[0m \u001b[1m0s\u001b[0m 31ms/step - loss: 0.0544\n",
            "Epoch 98: val_loss did not improve from 0.05455\n",
            "\u001b[1m17/17\u001b[0m \u001b[32m━━━━━━━━━━━━━━━━━━━━\u001b[0m\u001b[37m\u001b[0m \u001b[1m1s\u001b[0m 36ms/step - loss: 0.0545 - val_loss: 0.0545 - learning_rate: 1.0000e-06\n",
            "Epoch 99/100\n",
            "\u001b[1m17/17\u001b[0m \u001b[32m━━━━━━━━━━━━━━━━━━━━\u001b[0m\u001b[37m\u001b[0m \u001b[1m0s\u001b[0m 30ms/step - loss: 0.0548\n",
            "Epoch 99: val_loss improved from 0.05455 to 0.05455, saving model to /content/drive/My Drive/ae_models/autoencoder_best.keras\n",
            "\u001b[1m17/17\u001b[0m \u001b[32m━━━━━━━━━━━━━━━━━━━━\u001b[0m\u001b[37m\u001b[0m \u001b[1m1s\u001b[0m 49ms/step - loss: 0.0548 - val_loss: 0.0545 - learning_rate: 1.0000e-06\n",
            "Epoch 100/100\n",
            "\u001b[1m16/17\u001b[0m \u001b[32m━━━━━━━━━━━━━━━━━━\u001b[0m\u001b[37m━━\u001b[0m \u001b[1m0s\u001b[0m 48ms/step - loss: 0.0548\n",
            "Epoch 100: val_loss did not improve from 0.05455\n",
            "\u001b[1m17/17\u001b[0m \u001b[32m━━━━━━━━━━━━━━━━━━━━\u001b[0m\u001b[37m\u001b[0m \u001b[1m1s\u001b[0m 61ms/step - loss: 0.0548 - val_loss: 0.0545 - learning_rate: 1.0000e-06\n",
            "Best model saved to: /content/drive/My Drive/ae_models/autoencoder_best.keras\n"
          ]
        }
      ]
    },
    {
      "cell_type": "code",
      "source": [
        "plt.figure(figsize=(8,5))\n",
        "plt.plot(history.history['loss'], label='Training Loss')\n",
        "plt.plot(history.history['val_loss'], label='Validation Loss')\n",
        "plt.xlabel('Epochs')\n",
        "plt.ylabel('Loss (MAE)')\n",
        "plt.title('Training vs Validation Loss')\n",
        "plt.legend()\n",
        "plt.grid(True)\n",
        "plt.show()"
      ],
      "metadata": {
        "colab": {
          "base_uri": "https://localhost:8080/",
          "height": 487
        },
        "id": "wgbep68nAKkq",
        "outputId": "01520b16-aa35-4c62-d65f-4e6ebc63f030"
      },
      "execution_count": 50,
      "outputs": [
        {
          "output_type": "display_data",
          "data": {
            "text/plain": [
              "<Figure size 800x500 with 1 Axes>"
            ],
            "image/png": "[encoded data removed]"
          },
          "metadata": {}
        }
      ]
    },
    {
      "cell_type": "markdown",
      "source": [
        "# Threshold via Reconstruction Error (IQR)\n",
        "\n",
        "We compute reconstruction error (MAE) on **validation-normal** samples and derive an anomaly band using the interquartile range (IQR).\n",
        "Errors outside the band are flagged as anomalies.\n"
      ],
      "metadata": {
        "id": "uQMIwVJlXW84"
      }
    },
    {
      "cell_type": "code",
      "source": [
        "# Predict reconstructions on validation data\n",
        "pred_valid = autoencoder.predict(X_valid_good)\n",
        "\n",
        "#Calculate reconstruction errors (Mean Absolute Error)\n",
        "recon_errors = tf.keras.losses.mae(X_valid_good, pred_valid).numpy()\n",
        "\n",
        "# Calculate Interquartile Range (IQR) and thresholds\n",
        "q1 = np.quantile(recon_errors, 0.25)\n",
        "q3 = np.quantile(recon_errors, 0.75)\n",
        "iqr = q3 - q1\n",
        "lower_thresh = q1 - 1.5 * iqr\n",
        "upper_thresh = q3 + 1.5 * iqr\n",
        "\n",
        "print(f\"Anomaly detection threshold: Error < {lower_thresh:.4f} or > {upper_thresh:.4f}\")\n",
        "\n",
        "#Plot distribution of reconstruction errors\n",
        "plt.figure(figsize=(8,5))\n",
        "sns.histplot(recon_errors, bins=30, kde=True, alpha=0.8, color='skyblue')\n",
        "plt.axvline(lower_thresh, color='red', linestyle='--', label='Lower Threshold')\n",
        "plt.axvline(upper_thresh, color='red', linestyle='--', label='Upper Threshold')\n",
        "plt.xlabel('Reconstruction Error (MAE)')\n",
        "plt.ylabel('Count')\n",
        "plt.title('Validation Set Reconstruction Error Distribution')\n",
        "plt.legend()\n",
        "plt.grid(True)\n",
        "plt.show()\n"
      ],
      "metadata": {
        "colab": {
          "base_uri": "https://localhost:8080/",
          "height": 522
        },
        "id": "asdHZfRMAKnR",
        "outputId": "7a4894dc-30bd-4211-e678-809b3ff24fa2"
      },
      "execution_count": 51,
      "outputs": [
        {
          "output_type": "stream",
          "name": "stdout",
          "text": [
            "\u001b[1m9/9\u001b[0m \u001b[32m━━━━━━━━━━━━━━━━━━━━\u001b[0m\u001b[37m\u001b[0m \u001b[1m0s\u001b[0m 23ms/step\n",
            "Anomaly detection threshold: Error < 0.0267 or > 0.0821\n"
          ]
        },
        {
          "output_type": "display_data",
          "data": {
            "text/plain": [
              "<Figure size 800x500 with 1 Axes>"
            ],
            "image/png": "[encoded data removed]"
          },
          "metadata": {}
        }
      ]
    },
    {
      "cell_type": "markdown",
      "source": [
        "# Validation Performance"
      ],
      "metadata": {
        "id": "3_zKMYXXYCEk"
      }
    },
    {
      "cell_type": "code",
      "source": [
        "# Build evaluation set (GOOD first, then BAD)\n",
        "Xe = np.concatenate([X_valid_good, X_valid_bad], axis=0)\n",
        "ye = np.concatenate([\n",
        "    np.zeros(len(X_valid_good), dtype=int),  # 0 = normal (good)\n",
        "    np.ones(len(X_valid_bad),  dtype=int)    # 1 = anomaly (bad)\n",
        "])\n",
        "\n",
        "# Predict reconstructions and compute MAE per sample\n",
        "Xe_pred = autoencoder.predict(Xe, verbose=0)\n",
        "errs = tf.keras.losses.mae(Xe, Xe_pred).numpy()\n",
        "\n",
        "# Classify: outside the IQR band is anomaly\n",
        "yhat = ((errs < lower_thresh) | (errs > upper_thresh)).astype(int)\n",
        "\n",
        "# Report\n",
        "print(confusion_matrix(ye, yhat))\n",
        "print(classification_report(ye, yhat, target_names=[\"normal(good)\", \"anomaly(bad)\"], digits=4))\n"
      ],
      "metadata": {
        "colab": {
          "base_uri": "https://localhost:8080/"
        },
        "id": "P0TFsacq9Ufz",
        "outputId": "800e161d-e824-4e07-ee98-b27a450e8f6c"
      },
      "execution_count": 52,
      "outputs": [
        {
          "output_type": "stream",
          "name": "stdout",
          "text": [
            "[[261   2]\n",
            " [  7   5]]\n",
            "              precision    recall  f1-score   support\n",
            "\n",
            "normal(good)     0.9739    0.9924    0.9831       263\n",
            "anomaly(bad)     0.7143    0.4167    0.5263        12\n",
            "\n",
            "    accuracy                         0.9673       275\n",
            "   macro avg     0.8441    0.7045    0.7547       275\n",
            "weighted avg     0.9626    0.9673    0.9631       275\n",
            "\n"
          ]
        }
      ]
    }
  ]
}